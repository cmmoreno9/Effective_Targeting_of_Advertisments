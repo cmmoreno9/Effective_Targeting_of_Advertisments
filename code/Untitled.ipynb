{
 "cells": [
  {
   "cell_type": "markdown",
   "id": "c237440d",
   "metadata": {},
   "source": [
    "# Effective Targetting of Advertisments"
   ]
  },
  {
   "cell_type": "code",
   "execution_count": 19,
   "id": "3a9325a4",
   "metadata": {},
   "outputs": [],
   "source": [
    "#import dependencies\n",
    "import pandas as pd\n",
    "import numpy as np\n",
    "import matplotlib.pyplot as plt\n",
    "import seaborn as sns"
   ]
  },
  {
   "cell_type": "code",
   "execution_count": 2,
   "id": "81ff7d3c",
   "metadata": {},
   "outputs": [
    {
     "data": {
      "text/html": [
       "<div>\n",
       "<style scoped>\n",
       "    .dataframe tbody tr th:only-of-type {\n",
       "        vertical-align: middle;\n",
       "    }\n",
       "\n",
       "    .dataframe tbody tr th {\n",
       "        vertical-align: top;\n",
       "    }\n",
       "\n",
       "    .dataframe thead th {\n",
       "        text-align: right;\n",
       "    }\n",
       "</style>\n",
       "<table border=\"1\" class=\"dataframe\">\n",
       "  <thead>\n",
       "    <tr style=\"text-align: right;\">\n",
       "      <th></th>\n",
       "      <th>Daily Time Spent on Site</th>\n",
       "      <th>Age</th>\n",
       "      <th>Area Income</th>\n",
       "      <th>Daily Internet Usage</th>\n",
       "      <th>Ad Topic Line</th>\n",
       "      <th>City</th>\n",
       "      <th>Gender</th>\n",
       "      <th>Country</th>\n",
       "      <th>Timestamp</th>\n",
       "      <th>Clicked on Ad</th>\n",
       "    </tr>\n",
       "  </thead>\n",
       "  <tbody>\n",
       "    <tr>\n",
       "      <th>0</th>\n",
       "      <td>68.95</td>\n",
       "      <td>35.0</td>\n",
       "      <td>61833.90</td>\n",
       "      <td>256.09</td>\n",
       "      <td>Cloned 5thgeneration orchestration</td>\n",
       "      <td>Wrightburgh</td>\n",
       "      <td>Female</td>\n",
       "      <td>Tunisia</td>\n",
       "      <td>27-03-2016 00:53</td>\n",
       "      <td>0</td>\n",
       "    </tr>\n",
       "    <tr>\n",
       "      <th>1</th>\n",
       "      <td>NaN</td>\n",
       "      <td>31.0</td>\n",
       "      <td>68441.85</td>\n",
       "      <td>193.77</td>\n",
       "      <td>Monitored national standardization</td>\n",
       "      <td>West Jodi</td>\n",
       "      <td>Male</td>\n",
       "      <td>Nauru</td>\n",
       "      <td>04-04-2016 01:39</td>\n",
       "      <td>0</td>\n",
       "    </tr>\n",
       "    <tr>\n",
       "      <th>2</th>\n",
       "      <td>69.47</td>\n",
       "      <td>26.0</td>\n",
       "      <td>59785.94</td>\n",
       "      <td>236.50</td>\n",
       "      <td>Organic bottom-line service-desk</td>\n",
       "      <td>Davidton</td>\n",
       "      <td>Female</td>\n",
       "      <td>San Marino</td>\n",
       "      <td>13-03-2016 20:35</td>\n",
       "      <td>0</td>\n",
       "    </tr>\n",
       "    <tr>\n",
       "      <th>3</th>\n",
       "      <td>74.15</td>\n",
       "      <td>29.0</td>\n",
       "      <td>54806.18</td>\n",
       "      <td>245.89</td>\n",
       "      <td>Triple-buffered reciprocal time-frame</td>\n",
       "      <td>West Terrifurt</td>\n",
       "      <td>Male</td>\n",
       "      <td>Italy</td>\n",
       "      <td>10-01-2016 02:31</td>\n",
       "      <td>0</td>\n",
       "    </tr>\n",
       "    <tr>\n",
       "      <th>4</th>\n",
       "      <td>68.37</td>\n",
       "      <td>35.0</td>\n",
       "      <td>73889.99</td>\n",
       "      <td>225.58</td>\n",
       "      <td>Robust logistical utilization</td>\n",
       "      <td>South Manuel</td>\n",
       "      <td>Female</td>\n",
       "      <td>Iceland</td>\n",
       "      <td>03-06-2016 03:36</td>\n",
       "      <td>0</td>\n",
       "    </tr>\n",
       "  </tbody>\n",
       "</table>\n",
       "</div>"
      ],
      "text/plain": [
       "   Daily Time Spent on Site   Age  Area Income  Daily Internet Usage  \\\n",
       "0                     68.95  35.0     61833.90                256.09   \n",
       "1                       NaN  31.0     68441.85                193.77   \n",
       "2                     69.47  26.0     59785.94                236.50   \n",
       "3                     74.15  29.0     54806.18                245.89   \n",
       "4                     68.37  35.0     73889.99                225.58   \n",
       "\n",
       "                           Ad Topic Line            City  Gender     Country  \\\n",
       "0     Cloned 5thgeneration orchestration     Wrightburgh  Female     Tunisia   \n",
       "1     Monitored national standardization       West Jodi    Male       Nauru   \n",
       "2       Organic bottom-line service-desk        Davidton  Female  San Marino   \n",
       "3  Triple-buffered reciprocal time-frame  West Terrifurt    Male       Italy   \n",
       "4          Robust logistical utilization    South Manuel  Female     Iceland   \n",
       "\n",
       "          Timestamp  Clicked on Ad  \n",
       "0  27-03-2016 00:53              0  \n",
       "1  04-04-2016 01:39              0  \n",
       "2  13-03-2016 20:35              0  \n",
       "3  10-01-2016 02:31              0  \n",
       "4  03-06-2016 03:36              0  "
      ]
     },
     "execution_count": 2,
     "metadata": {},
     "output_type": "execute_result"
    }
   ],
   "source": [
    "# import advertising csv & view data\n",
    "ad_data = pd.read_csv(\"../resources/advertising_ef.csv\")\n",
    "ad_data.head()"
   ]
  },
  {
   "cell_type": "code",
   "execution_count": 3,
   "id": "bc99a0ab",
   "metadata": {},
   "outputs": [
    {
     "name": "stdout",
     "output_type": "stream",
     "text": [
      "<class 'pandas.core.frame.DataFrame'>\n",
      "RangeIndex: 1009 entries, 0 to 1008\n",
      "Data columns (total 10 columns):\n",
      " #   Column                    Non-Null Count  Dtype  \n",
      "---  ------                    --------------  -----  \n",
      " 0   Daily Time Spent on Site  1005 non-null   float64\n",
      " 1   Age                       998 non-null    float64\n",
      " 2   Area Income               998 non-null    float64\n",
      " 3   Daily Internet Usage      1005 non-null   float64\n",
      " 4   Ad Topic Line             1009 non-null   object \n",
      " 5   City                      998 non-null    object \n",
      " 6   Gender                    1009 non-null   object \n",
      " 7   Country                   996 non-null    object \n",
      " 8   Timestamp                 1009 non-null   object \n",
      " 9   Clicked on Ad             1009 non-null   int64  \n",
      "dtypes: float64(4), int64(1), object(5)\n",
      "memory usage: 79.0+ KB\n"
     ]
    }
   ],
   "source": [
    "# view data info: columns, null count, data types, etc. \n",
    "ad_data.info()"
   ]
  },
  {
   "cell_type": "markdown",
   "id": "d488f6fd",
   "metadata": {},
   "source": [
    "- Total of 10 columns and 1009 entries\n",
    "- Dtypes: float64, int64, and objects\n",
    "- Nulls are present in six columns "
   ]
  },
  {
   "cell_type": "markdown",
   "id": "4f955e2c",
   "metadata": {},
   "source": [
    "## Data Preprocessing"
   ]
  },
  {
   "cell_type": "code",
   "execution_count": 4,
   "id": "5b00af2b",
   "metadata": {},
   "outputs": [
    {
     "data": {
      "text/plain": [
       "Daily Time Spent on Site     4\n",
       "Age                         11\n",
       "Area Income                 11\n",
       "Daily Internet Usage         4\n",
       "Ad Topic Line                0\n",
       "City                        11\n",
       "Gender                       0\n",
       "Country                     13\n",
       "Timestamp                    0\n",
       "Clicked on Ad                0\n",
       "dtype: int64"
      ]
     },
     "execution_count": 4,
     "metadata": {},
     "output_type": "execute_result"
    }
   ],
   "source": [
    "# view the total amount of nulls in all 10 columns \n",
    "ad_data.isna().sum()"
   ]
  },
  {
   "cell_type": "markdown",
   "id": "6cc0b6e4",
   "metadata": {},
   "source": [
    "- replace the null values with its median instead of automatic deletion"
   ]
  },
  {
   "cell_type": "code",
   "execution_count": 5,
   "id": "ea6deb81",
   "metadata": {},
   "outputs": [
    {
     "name": "stdout",
     "output_type": "stream",
     "text": [
      "count    1005.000000\n",
      "mean       65.009463\n",
      "std        15.879997\n",
      "min        32.600000\n",
      "25%        51.300000\n",
      "50%        68.370000\n",
      "75%        78.570000\n",
      "max        91.430000\n",
      "Name: Daily_Time_Spent_on_Site, dtype: float64\n"
     ]
    }
   ],
   "source": [
    "#rename \"Daily Time Spent on Site\" Column \n",
    "ad_data.rename(columns={'Daily Time Spent on Site':'Daily_Time_Spent_on_Site'}, inplace=True)\n",
    "\n",
    "# print describe on the column to find the median and view the distribution\n",
    "print(ad_data['Daily_Time_Spent_on_Site'].describe())"
   ]
  },
  {
   "cell_type": "code",
   "execution_count": 6,
   "id": "89df7f81",
   "metadata": {},
   "outputs": [
    {
     "name": "stdout",
     "output_type": "stream",
     "text": [
      "0\n"
     ]
    }
   ],
   "source": [
    "# fill null data on 'Daily Time Spent on Site':'Daily_Time_Spent_on_Site' column with its medians \n",
    "ad_data['Daily_Time_Spent_on_Site'].fillna(ad_data['Daily_Time_Spent_on_Site'].median(),inplace=True)\n",
    "\n",
    "# double check for nulls \n",
    "print(ad_data['Daily_Time_Spent_on_Site'].isna().sum())"
   ]
  },
  {
   "cell_type": "code",
   "execution_count": 7,
   "id": "5cfbf42c",
   "metadata": {},
   "outputs": [
    {
     "name": "stdout",
     "output_type": "stream",
     "text": [
      "count    998.000000\n",
      "mean      35.962926\n",
      "std        8.772142\n",
      "min       19.000000\n",
      "25%       29.000000\n",
      "50%       35.000000\n",
      "75%       42.000000\n",
      "max       61.000000\n",
      "Name: Age, dtype: float64\n"
     ]
    }
   ],
   "source": [
    "# find the median of 'Age' column for null replacement\n",
    "print(ad_data['Age'].describe())"
   ]
  },
  {
   "cell_type": "code",
   "execution_count": 8,
   "id": "fe1f36c7",
   "metadata": {},
   "outputs": [
    {
     "name": "stdout",
     "output_type": "stream",
     "text": [
      "0\n"
     ]
    }
   ],
   "source": [
    "# Fill 'Age' nulls with Median value \n",
    "ad_data['Age'].fillna(ad_data['Age'].median(),inplace=True)\n",
    "\n",
    "# double check for nulls \n",
    "print(ad_data['Age'].isna().sum())"
   ]
  },
  {
   "cell_type": "code",
   "execution_count": 9,
   "id": "c2442205",
   "metadata": {},
   "outputs": [
    {
     "name": "stdout",
     "output_type": "stream",
     "text": [
      "count      998.000000\n",
      "mean     54958.573617\n",
      "std      13381.286752\n",
      "min      13996.500000\n",
      "25%      46993.367500\n",
      "50%      56998.245000\n",
      "75%      65267.402500\n",
      "max      79484.800000\n",
      "Name: Area_Income, dtype: float64\n"
     ]
    }
   ],
   "source": [
    "# Rename 'Area Income' to 'Area_Income'\n",
    "ad_data.rename(columns={'Area Income':'Area_Income'}, inplace=True)\n",
    "\n",
    "# print describe on the column to find the median and view the distribution\n",
    "print(ad_data['Area_Income'].describe())"
   ]
  },
  {
   "cell_type": "code",
   "execution_count": 10,
   "id": "2060dc47",
   "metadata": {},
   "outputs": [
    {
     "name": "stdout",
     "output_type": "stream",
     "text": [
      "0\n"
     ]
    }
   ],
   "source": [
    "# fill 'Area_Income' Null values with Median\n",
    "ad_data['Area_Income'].fillna(ad_data['Area_Income'].median(),inplace=True)\n",
    "\n",
    "# double check for nulls \n",
    "print(ad_data['Area_Income'].isna().sum())"
   ]
  },
  {
   "cell_type": "code",
   "execution_count": 11,
   "id": "1eedd8b2",
   "metadata": {},
   "outputs": [
    {
     "name": "stdout",
     "output_type": "stream",
     "text": [
      "0       61833.90\n",
      "1       68441.85\n",
      "2       59785.94\n",
      "3       54806.18\n",
      "4       73889.99\n",
      "          ...   \n",
      "1004    71384.57\n",
      "1005    67782.17\n",
      "1006    42415.72\n",
      "1007    41920.79\n",
      "1008    29875.80\n",
      "Name: Area_Income, Length: 1009, dtype: float64\n"
     ]
    }
   ],
   "source": [
    "# round 'Age' values to 2 decimal places\n",
    "ad_data['Area_Income']= ad_data['Area_Income'].round(2)\n",
    "\n",
    "# check for decimal places \n",
    "print(ad_data['Area_Income'])"
   ]
  },
  {
   "cell_type": "code",
   "execution_count": 12,
   "id": "4fac6254",
   "metadata": {},
   "outputs": [
    {
     "name": "stdout",
     "output_type": "stream",
     "text": [
      "count    1005.000000\n",
      "mean      180.041920\n",
      "std        43.923438\n",
      "min       104.780000\n",
      "25%       138.870000\n",
      "50%       183.420000\n",
      "75%       218.800000\n",
      "max       269.960000\n",
      "Name: Daily_Internet_Usage, dtype: float64\n"
     ]
    }
   ],
   "source": [
    "# rename 'Daily Internet Usage' column \n",
    "ad_data.rename(columns={'Daily Internet Usage':'Daily_Internet_Usage'}, inplace=True)\n",
    "\n",
    "# print describe on the column to find the median and view the distribution\n",
    "print(ad_data['Daily_Internet_Usage'].describe())"
   ]
  },
  {
   "cell_type": "code",
   "execution_count": 13,
   "id": "35e45fa4",
   "metadata": {},
   "outputs": [
    {
     "name": "stdout",
     "output_type": "stream",
     "text": [
      "0\n"
     ]
    }
   ],
   "source": [
    "# fill 'Daily_Internet_Usage' Null values with Median\n",
    "ad_data['Daily_Internet_Usage'].fillna(ad_data['Daily_Internet_Usage'].median(),inplace=True)\n",
    "\n",
    "# double check for nulls \n",
    "print(ad_data['Daily_Internet_Usage'].isna().sum())"
   ]
  },
  {
   "cell_type": "markdown",
   "id": "6da13a57",
   "metadata": {},
   "source": [
    "\n",
    "- Although it is possible to fill the null values in both 'City' & 'Country', this may affect the integrity of the data. Thus, these null values for 'City' = 11 & 'Country'= 13 will be dropped. "
   ]
  },
  {
   "cell_type": "code",
   "execution_count": 14,
   "id": "0dda3f6e",
   "metadata": {},
   "outputs": [
    {
     "name": "stdout",
     "output_type": "stream",
     "text": [
      "0\n",
      "0\n"
     ]
    }
   ],
   "source": [
    "# drop 'City' and Country null values\n",
    "ad_data = ad_data.dropna(subset=['City', 'Country'])\n",
    "\n",
    "# double check for null values\n",
    "print(ad_data['City'].isna().sum())\n",
    "print(ad_data['Country'].isna().sum())"
   ]
  },
  {
   "cell_type": "code",
   "execution_count": 15,
   "id": "75ddb880",
   "metadata": {},
   "outputs": [
    {
     "data": {
      "text/plain": [
       "Daily_Time_Spent_on_Site    0\n",
       "Age                         0\n",
       "Area_Income                 0\n",
       "Daily_Internet_Usage        0\n",
       "Ad Topic Line               0\n",
       "City                        0\n",
       "Gender                      0\n",
       "Country                     0\n",
       "Timestamp                   0\n",
       "Clicked on Ad               0\n",
       "dtype: int64"
      ]
     },
     "execution_count": 15,
     "metadata": {},
     "output_type": "execute_result"
    }
   ],
   "source": [
    "# check final time for null values\n",
    "ad_data.isna().sum()"
   ]
  },
  {
   "cell_type": "code",
   "execution_count": 21,
   "id": "5899b558",
   "metadata": {},
   "outputs": [],
   "source": [
    "#convert ad_data into dataframe\n",
    "ad_data_df = pd.DataFrame(ad_data)"
   ]
  },
  {
   "cell_type": "markdown",
   "id": "f3d8fc73",
   "metadata": {},
   "source": [
    "## Correlation between Columns "
   ]
  },
  {
   "cell_type": "code",
   "execution_count": 22,
   "id": "4c281e07",
   "metadata": {},
   "outputs": [
    {
     "data": {
      "text/html": [
       "<div>\n",
       "<style scoped>\n",
       "    .dataframe tbody tr th:only-of-type {\n",
       "        vertical-align: middle;\n",
       "    }\n",
       "\n",
       "    .dataframe tbody tr th {\n",
       "        vertical-align: top;\n",
       "    }\n",
       "\n",
       "    .dataframe thead th {\n",
       "        text-align: right;\n",
       "    }\n",
       "</style>\n",
       "<table border=\"1\" class=\"dataframe\">\n",
       "  <thead>\n",
       "    <tr style=\"text-align: right;\">\n",
       "      <th></th>\n",
       "      <th>Daily_Time_Spent_on_Site</th>\n",
       "      <th>Age</th>\n",
       "      <th>Area_Income</th>\n",
       "      <th>Daily_Internet_Usage</th>\n",
       "      <th>Clicked on Ad</th>\n",
       "    </tr>\n",
       "  </thead>\n",
       "  <tbody>\n",
       "    <tr>\n",
       "      <th>Daily_Time_Spent_on_Site</th>\n",
       "      <td>1.000000</td>\n",
       "      <td>-0.326590</td>\n",
       "      <td>0.306701</td>\n",
       "      <td>0.508933</td>\n",
       "      <td>-0.739956</td>\n",
       "    </tr>\n",
       "    <tr>\n",
       "      <th>Age</th>\n",
       "      <td>-0.326590</td>\n",
       "      <td>1.000000</td>\n",
       "      <td>-0.173419</td>\n",
       "      <td>-0.364919</td>\n",
       "      <td>0.483994</td>\n",
       "    </tr>\n",
       "    <tr>\n",
       "      <th>Area_Income</th>\n",
       "      <td>0.306701</td>\n",
       "      <td>-0.173419</td>\n",
       "      <td>1.000000</td>\n",
       "      <td>0.325323</td>\n",
       "      <td>-0.467634</td>\n",
       "    </tr>\n",
       "    <tr>\n",
       "      <th>Daily_Internet_Usage</th>\n",
       "      <td>0.508933</td>\n",
       "      <td>-0.364919</td>\n",
       "      <td>0.325323</td>\n",
       "      <td>1.000000</td>\n",
       "      <td>-0.783114</td>\n",
       "    </tr>\n",
       "    <tr>\n",
       "      <th>Clicked on Ad</th>\n",
       "      <td>-0.739956</td>\n",
       "      <td>0.483994</td>\n",
       "      <td>-0.467634</td>\n",
       "      <td>-0.783114</td>\n",
       "      <td>1.000000</td>\n",
       "    </tr>\n",
       "  </tbody>\n",
       "</table>\n",
       "</div>"
      ],
      "text/plain": [
       "                          Daily_Time_Spent_on_Site       Age  Area_Income  \\\n",
       "Daily_Time_Spent_on_Site                  1.000000 -0.326590     0.306701   \n",
       "Age                                      -0.326590  1.000000    -0.173419   \n",
       "Area_Income                               0.306701 -0.173419     1.000000   \n",
       "Daily_Internet_Usage                      0.508933 -0.364919     0.325323   \n",
       "Clicked on Ad                            -0.739956  0.483994    -0.467634   \n",
       "\n",
       "                          Daily_Internet_Usage  Clicked on Ad  \n",
       "Daily_Time_Spent_on_Site              0.508933      -0.739956  \n",
       "Age                                  -0.364919       0.483994  \n",
       "Area_Income                           0.325323      -0.467634  \n",
       "Daily_Internet_Usage                  1.000000      -0.783114  \n",
       "Clicked on Ad                        -0.783114       1.000000  "
      ]
     },
     "execution_count": 22,
     "metadata": {},
     "output_type": "execute_result"
    }
   ],
   "source": [
    "# view correlation using pearson correlation \n",
    "ad_data_df.corr(method = 'pearson')"
   ]
  },
  {
   "cell_type": "code",
   "execution_count": 28,
   "id": "5a497b6a",
   "metadata": {},
   "outputs": [
    {
     "data": {
      "text/plain": [
       "<AxesSubplot:>"
      ]
     },
     "execution_count": 28,
     "metadata": {},
     "output_type": "execute_result"
    },
    {
     "data": {
      "image/png": "[encoded data removed]",
      "text/plain": [
       "<Figure size 720x720 with 2 Axes>"
      ]
     },
     "metadata": {},
     "output_type": "display_data"
    }
   ],
   "source": [
    "# create a heat map for visual correlation \n",
    "plt.figure(figsize=(10, 10))\n",
    "sns.set(font_scale=1.5)\n",
    "\n",
    "sns.heatmap(ad_data_df.corr(method = 'pearson'),\n",
    "            cmap='coolwarm',\n",
    "            annot=True,\n",
    "            fmt='.5g',\n",
    "            vmin=-1, \n",
    "            vmax=1)"
   ]
  },
  {
   "cell_type": "code",
   "execution_count": 30,
   "id": "b9e70345",
   "metadata": {},
   "outputs": [
    {
     "data": {
      "text/plain": [
       "<AxesSubplot:xlabel='Age', ylabel='Count'>"
      ]
     },
     "execution_count": 30,
     "metadata": {},
     "output_type": "execute_result"
    },
    {
     "data": {
      "image/png": "[encoded data removed]",
      "text/plain": [
       "<Figure size 432x288 with 1 Axes>"
      ]
     },
     "metadata": {},
     "output_type": "display_data"
    }
   ],
   "source": [
    "# view the age demographics using a histogram \n",
    "sns.histplot(ad_data_df['Age'], kde=True)"
   ]
  },
  {
   "cell_type": "code",
   "execution_count": null,
   "id": "b2d0210e",
   "metadata": {},
   "outputs": [],
   "source": []
  }
 ],
 "metadata": {
  "kernelspec": {
   "display_name": "Python 3 (ipykernel)",
   "language": "python",
   "name": "python3"
  },
  "language_info": {
   "codemirror_mode": {
    "name": "ipython",
    "version": 3
   },
   "file_extension": ".py",
   "mimetype": "text/x-python",
   "name": "python",
   "nbconvert_exporter": "python",
   "pygments_lexer": "ipython3",
   "version": "3.9.7"
  }
 },
 "nbformat": 4,
 "nbformat_minor": 5
}
